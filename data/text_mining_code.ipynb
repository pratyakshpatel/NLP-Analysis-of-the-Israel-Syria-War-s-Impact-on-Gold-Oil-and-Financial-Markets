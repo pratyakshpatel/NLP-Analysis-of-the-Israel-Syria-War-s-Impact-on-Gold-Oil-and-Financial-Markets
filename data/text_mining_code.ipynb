{
 "cells": [
  {
   "cell_type": "code",
   "execution_count": 1,
   "metadata": {},
   "outputs": [
    {
     "name": "stdout",
     "output_type": "stream",
     "text": [
      "Text data saved to 'scraped_text.txt'\n"
     ]
    }
   ],
   "source": [
    "import requests\n",
    "from bs4 import BeautifulSoup\n",
    "url = \"https://www.atlanticcouncil.org/blogs/energysource/as-middle-east-tensions-simmer-the-world-fixates-on-the-wrong-energy-market-risks/\"  # Replace with your target URL\n",
    "\n",
    "def scrape_text(url):\n",
    "    response = requests.get(url)\n",
    "    response.raise_for_status()  \n",
    "    soup = BeautifulSoup(response.text, 'html.parser')\n",
    "    for element in soup(['script', 'style']):\n",
    "        element.decompose()\n",
    "\n",
    "    text = soup.get_text(separator=' ')\n",
    "    \n",
    "    text = ' '.join(text.split())\n",
    "    \n",
    "    return text\n",
    "\n",
    "try:\n",
    "    text_data = scrape_text(url)\n",
    "    \n",
    "    with open(\"scraped_text.txt\", \"w\", encoding=\"utf-8\") as file:\n",
    "        file.write(text_data)\n",
    "    \n",
    "    print(\"Text data saved to 'scraped_text.txt'\")\n",
    "except Exception as e:\n",
    "    print(f\"An error occurred: {e}\")\n"
   ]
  },
  {
   "cell_type": "code",
   "execution_count": null,
   "metadata": {},
   "outputs": [],
   "source": [
    "import requests\n",
    "from bs4 import BeautifulSoup\n",
    "from urllib.parse import urlparse\n",
    "\n",
    "# Define the URL of the page to scrape\n",
    "url = \"https://www.nasdaq.com/articles/how-will-the-israel-hamas-war-impact-the-stock-market\"\n",
    "def scrape_text(url):\n",
    "    response = requests.get(url)\n",
    "    response.raise_for_status()  \n",
    "    soup = BeautifulSoup(response.text, 'html.parser')\n",
    "    \n",
    "    # Remove script and style elements from the HTML\n",
    "    for element in soup(['script', 'style']):\n",
    "        element.decompose()\n",
    "    \n",
    "    # Extract text and clean up whitespace\n",
    "    text = soup.get_text(separator=' ')\n",
    "    text = ' '.join(text.split())\n",
    "    \n",
    "    return text\n",
    "\n",
    "try:\n",
    "    # Get the scraped text\n",
    "    text_data = scrape_text(url)\n",
    "    \n",
    "    # Extract the domain name to use as filename\n",
    "    domain_name = urlparse(url).netloc.split('.')[1]  # Gets the main domain part (e.g., 'ft' from 'ft.com')\n",
    "    filename = f\"{domain_name}_text_data.txt\"\n",
    "    \n",
    "    # Save the text data to a file named after the website\n",
    "    with open(filename, \"w\", encoding=\"utf-8\") as file:\n",
    "        file.write(text_data)\n",
    "    \n",
    "    print(f\"Text data saved to '{filename}'\")\n",
    "except Exception as e:\n",
    "    print(f\"An error occurred: {e}\") \n"
   ]
  },
  {
   "cell_type": "code",
   "execution_count": null,
   "metadata": {},
   "outputs": [],
   "source": []
  }
 ],
 "metadata": {
  "kernelspec": {
   "display_name": "Python 3",
   "language": "python",
   "name": "python3"
  },
  "language_info": {
   "codemirror_mode": {
    "name": "ipython",
    "version": 3
   },
   "file_extension": ".py",
   "mimetype": "text/x-python",
   "name": "python",
   "nbconvert_exporter": "python",
   "pygments_lexer": "ipython3",
   "version": "3.10.6"
  }
 },
 "nbformat": 4,
 "nbformat_minor": 2
}
